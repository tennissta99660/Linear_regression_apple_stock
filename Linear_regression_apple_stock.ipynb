{
  "nbformat": 4,
  "nbformat_minor": 0,
  "metadata": {
    "colab": {
      "provenance": [],
      "authorship_tag": "ABX9TyO1e3zqWSsp7Af+6kJ+rS2F",
      "include_colab_link": true
    },
    "kernelspec": {
      "name": "python3",
      "display_name": "Python 3"
    },
    "language_info": {
      "name": "python"
    }
  },
  "cells": [
    {
      "cell_type": "markdown",
      "metadata": {
        "id": "view-in-github",
        "colab_type": "text"
      },
      "source": [
        "<a href=\"https://colab.research.google.com/github/tennissta99660/Linear_regression_apple_stock/blob/main/Linear_regression_apple_stock.ipynb\" target=\"_parent\"><img src=\"https://colab.research.google.com/assets/colab-badge.svg\" alt=\"Open In Colab\"/></a>"
      ]
    },
    {
      "cell_type": "code",
      "execution_count": 4,
      "metadata": {
        "colab": {
          "base_uri": "https://localhost:8080/"
        },
        "id": "L50alZla8ZiA",
        "outputId": "51ae632d-a83a-43c9-8918-346bd55b5fa4"
      },
      "outputs": [
        {
          "output_type": "stream",
          "name": "stdout",
          "text": [
            "Epoch 0, Loss: 10443.7396\n",
            "Epoch 100, Loss: 36.1153\n",
            "Epoch 200, Loss: 5.3681\n",
            "Epoch 300, Loss: 2.9662\n",
            "Epoch 400, Loss: 3.6499\n",
            "Epoch 500, Loss: 2.6566\n",
            "Epoch 600, Loss: 1.1115\n",
            "Epoch 700, Loss: 1.9118\n",
            "Epoch 800, Loss: 1.1863\n",
            "Epoch 900, Loss: 1.5255\n",
            "Trained Weights: [69.36920752 70.43892782 69.70180016 -6.84185706]\n",
            "Trained Bias: 21.333502120670182\n"
          ]
        }
      ],
      "source": [
        "import numpy as np\n",
        "import pandas as pd\n",
        "from sklearn.preprocessing import MinMaxScaler\n",
        "from sklearn.model_selection import train_test_split\n",
        "\n",
        "# load the dataset\n",
        "data_path = \"Apple_stock_data_10years.csv\"\n",
        "apple_data = pd.read_csv(data_path)\n",
        "\n",
        "# select features/column and target\n",
        "X = apple_data[['open', 'high', 'low', 'volume']].values\n",
        "y = apple_data[['close']].values\n",
        "\n",
        "# scale the features to range [0, 1], each column is being scaled to [0,1] with highest to 1 and lowest to 0 and everything else between.\n",
        "scaler = MinMaxScaler()\n",
        "X_scaled = scaler.fit_transform(X)\n",
        "\n",
        "# split data into training and testing sets\n",
        "X_train, X_test, y_train, y_test = train_test_split(X_scaled, y, test_size=0.2, random_state=42)\n",
        "\n",
        "# initialize random weights and bias\n",
        "num_features = X_train.shape[1]\n",
        "weights = {\n",
        "    'W': np.random.randn(num_features, 1),\n",
        "    'B': np.random.randn(1, 1)\n",
        "}\n",
        "\n",
        "def forward_linear_regression(X_batch: np.ndarray, y_batch: np.ndarray, weights: dict) -> tuple:\n",
        "    N = np.dot(X_batch, weights['W'])\n",
        "    P = N + weights['B']\n",
        "    loss = np.mean(np.power(y_batch - P, 2))\n",
        "    forward_info = {'X': X_batch, 'N': N, 'P': P, 'y': y_batch}\n",
        "    return loss, forward_info\n",
        "\n",
        "def loss_gradients(forward_info: dict, weights: dict) -> dict:\n",
        "    batch_size = forward_info['X'].shape[0]\n",
        "    dLdP = -2 * (forward_info['y'] - forward_info['P'])\n",
        "    dLdW = np.dot(forward_info['X'].T, dLdP) / batch_size\n",
        "    dLdB = np.sum(dLdP) / batch_size\n",
        "    loss_grads = {'W': dLdW, 'B': dLdB}\n",
        "    return loss_grads\n",
        "\n",
        "# training parameters\n",
        "learning_rate = 0.001\n",
        "batch_size = 32\n",
        "num_epochs = 1000\n",
        "num_samples = X_train.shape[0]\n",
        "\n",
        "# training loop\n",
        "for epoch in range(num_epochs):\n",
        "    indices = np.random.permutation(num_samples)\n",
        "    X_shuffled, y_shuffled = X_train[indices], y_train[indices]\n",
        "\n",
        "    for i in range(0, num_samples, batch_size):\n",
        "        X_batch = X_shuffled[i:i + batch_size]\n",
        "        y_batch = y_shuffled[i:i + batch_size]\n",
        "\n",
        "        # forward pass\n",
        "        loss, forward_info = forward_linear_regression(X_batch, y_batch, weights)\n",
        "\n",
        "        # backward pass\n",
        "        loss_grads = loss_gradients(forward_info, weights)\n",
        "\n",
        "        # update weights\n",
        "        for key in weights.keys():\n",
        "            weights[key] -= learning_rate * loss_grads[key]\n",
        "\n",
        "    # printng loss occasionaly\n",
        "    if epoch % 100 == 0:\n",
        "        print(f'Epoch {epoch}, Loss: {loss:.4f}')\n",
        "\n",
        "# learned weights and bias\n",
        "print(\"Trained Weights:\", weights['W'].flatten())\n",
        "print(\"Trained Bias:\", weights['B'][0][0])\n"
      ]
    },
    {
      "cell_type": "code",
      "source": [
        "#  model on the test set\n",
        "test_loss, test_info = forward_linear_regression(X_test, y_test, weights)\n",
        "\n",
        "# compute MSE and MAE\n",
        "y_pred = test_info['P']\n",
        "mse = np.mean(np.square(y_test - y_pred))\n",
        "mae = np.mean(np.abs(y_test - y_pred))\n",
        "\n",
        "print(f'Test MSE: {mse:.4f}')\n",
        "print(f'Test MAE: {mae:.4f}')\n"
      ],
      "metadata": {
        "colab": {
          "base_uri": "https://localhost:8080/"
        },
        "id": "JjU_rhTQ8fSP",
        "outputId": "ba29130e-c5e4-4201-f7ee-be0c063f39b0"
      },
      "execution_count": 5,
      "outputs": [
        {
          "output_type": "stream",
          "name": "stdout",
          "text": [
            "Test MSE: 1.0353\n",
            "Test MAE: 0.7506\n"
          ]
        }
      ]
    },
    {
      "cell_type": "code",
      "source": [],
      "metadata": {
        "id": "1Xg8DxL784LF"
      },
      "execution_count": null,
      "outputs": []
    }
  ]
}